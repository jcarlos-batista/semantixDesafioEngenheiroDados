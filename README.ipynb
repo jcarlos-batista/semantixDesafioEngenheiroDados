{
 "cells": [
  {
   "cell_type": "raw",
   "metadata": {},
   "source": [
    "Gostaria de agradecer pela oportunidade de realizar esta atividade, achei incrivel e prazerosa um processoseletivo assim deve ser o ideal para todas as contratações para desafiar o profissional."
   ]
  },
  {
   "cell_type": "markdown",
   "metadata": {},
   "source": [
    "### <font color=\"red\"> -> Respostas do desafio no arquivo - Desafio Técnico - Engenheiro de Dados</font>"
   ]
  },
  {
   "cell_type": "code",
   "execution_count": null,
   "metadata": {},
   "outputs": [],
   "source": [
    "Desafio Técnico - Engenheiro de Dados"
   ]
  },
  {
   "cell_type": "markdown",
   "metadata": {},
   "source": [
    "### <font color=\"red\"> -> RELAÇÃO DAS FONTES DE PESQUISAE ESTUDOS</font>"
   ]
  },
  {
   "cell_type": "markdown",
   "metadata": {},
   "source": [
    "\n",
    "-- GRADUAÇÃO TECNOLOGICA\n",
    "\n",
    "https://www.fiap.com.br/graduacao/tecnologo/banco-de-dados/\n",
    "\n",
    "-- MBA BIG DATA\n",
    "\n",
    "https://fia.com.br/mba/mba-analytics-big-data/\n",
    "\n",
    "-- TREINAMENTOS DIVERSOS\n",
    "\n",
    "https://www.datascienceacademy.com.br/bundles?bundle_id=formacao-engenheiro-de-dados\n",
    "\n",
    "https://www.datascienceacademy.com.br/course?courseid=big-data-analytics-engineer\n",
    "\n",
    "https://www.datascienceacademy.com.br/course?courseid=analise-de-dados-com-python\n",
    "\n",
    "https://www.coursera.org/programs/gcp-partners-learning-program-005-2002-smk3m?currentTab=CATALOG\n",
    "- Data Engineering\n",
    "\n",
    "https://www.udemy.com/course/taming-big-data-with-apache-spark-hands-on/\n",
    "\n",
    "https://www.udemy.com/course/big-data-com-apache-spark-e-pyspark/\n",
    "\n",
    "https://www.udemy.com/course/apache-spark-with-scala-hands-on-with-big-data/\n",
    "\n",
    "https://cursos.alura.com.br/course/spark\n",
    "\n",
    "https://cursos.alura.com.br/formacao-data-science\n",
    "\n",
    "https://cursos.alura.com.br/formacao-Python-linguagem\n",
    "\n",
    "https://cursos.alura.com.br/formacao-python-web\n",
    "\n",
    "https://cursos.alura.com.br/formacao-java\n",
    "\n",
    "https://cursos.alura.com.br/formacao-java-ee\n",
    "\n",
    "https://cursos.alura.com.br/formacao-machine-learning\n",
    "\n",
    "-- LEITURA E ESTUDOS EM BLOGS \n",
    "\n",
    "https://www.tutorialspoint.com/apache_spark/index.htm\n",
    "\n",
    "https://en.wikipedia.org/wiki/Apache_Spark\n",
    "\n",
    "SRIPATI, Pravin. Resilient Distributed Datasets (RDD) for the impatient.\n",
    "Disponível em: http://www.thecloudavenue.com/2014/01/resilientdistributed-datasets-rdd.html. Acessado em: 13/07/2018.\n",
    "\n",
    "https://spark.apache.org/docs/2.3.0/api/java/org/apache/spark/SparkContext.html\n",
    "\n",
    "https://www.tutorialspoint.com/pyspark/pyspark_sparkcontext.htm\n",
    "\n",
    "https://databricks.gitbooks.io/databricks-spark-knowledge-base/content/best_practices/prefer_reducebykey_over_groupbykey.html\n"
   ]
  },
  {
   "cell_type": "code",
   "execution_count": null,
   "metadata": {},
   "outputs": [],
   "source": []
  }
 ],
 "metadata": {
  "kernelspec": {
   "display_name": "Python 3",
   "language": "python",
   "name": "python3"
  },
  "language_info": {
   "codemirror_mode": {
    "name": "ipython",
    "version": 3
   },
   "file_extension": ".py",
   "mimetype": "text/x-python",
   "name": "python",
   "nbconvert_exporter": "python",
   "pygments_lexer": "ipython3",
   "version": "3.7.1"
  }
 },
 "nbformat": 4,
 "nbformat_minor": 2
}
